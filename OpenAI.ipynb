{
  "nbformat": 4,
  "nbformat_minor": 0,
  "metadata": {
    "colab": {
      "provenance": []
    },
    "kernelspec": {
      "name": "python3",
      "display_name": "Python 3"
    },
    "language_info": {
      "name": "python"
    }
  },
  "cells": [
    {
      "cell_type": "code",
      "source": [
        "!pip install openai"
      ],
      "metadata": {
        "colab": {
          "base_uri": "https://localhost:8080/"
        },
        "id": "VwyJw9TTcFcB",
        "outputId": "3a46c3fd-acd9-4927-f113-b51c6907dc6f"
      },
      "execution_count": 5,
      "outputs": [
        {
          "output_type": "stream",
          "name": "stdout",
          "text": [
            "Collecting openai\n",
            "  Downloading openai-1.16.2-py3-none-any.whl (267 kB)\n",
            "\u001b[2K     \u001b[90m━━━━━━━━━━━━━━━━━━━━━━━━━━━━━━━━━━━━━━━━\u001b[0m \u001b[32m267.1/267.1 kB\u001b[0m \u001b[31m4.7 MB/s\u001b[0m eta \u001b[36m0:00:00\u001b[0m\n",
            "\u001b[?25hRequirement already satisfied: anyio<5,>=3.5.0 in /usr/local/lib/python3.10/dist-packages (from openai) (3.7.1)\n",
            "Requirement already satisfied: distro<2,>=1.7.0 in /usr/lib/python3/dist-packages (from openai) (1.7.0)\n",
            "Collecting httpx<1,>=0.23.0 (from openai)\n",
            "  Downloading httpx-0.27.0-py3-none-any.whl (75 kB)\n",
            "\u001b[2K     \u001b[90m━━━━━━━━━━━━━━━━━━━━━━━━━━━━━━━━━━━━━━━━\u001b[0m \u001b[32m75.6/75.6 kB\u001b[0m \u001b[31m8.2 MB/s\u001b[0m eta \u001b[36m0:00:00\u001b[0m\n",
            "\u001b[?25hRequirement already satisfied: pydantic<3,>=1.9.0 in /usr/local/lib/python3.10/dist-packages (from openai) (2.6.4)\n",
            "Requirement already satisfied: sniffio in /usr/local/lib/python3.10/dist-packages (from openai) (1.3.1)\n",
            "Requirement already satisfied: tqdm>4 in /usr/local/lib/python3.10/dist-packages (from openai) (4.66.2)\n",
            "Requirement already satisfied: typing-extensions<5,>=4.7 in /usr/local/lib/python3.10/dist-packages (from openai) (4.10.0)\n",
            "Requirement already satisfied: idna>=2.8 in /usr/local/lib/python3.10/dist-packages (from anyio<5,>=3.5.0->openai) (3.6)\n",
            "Requirement already satisfied: exceptiongroup in /usr/local/lib/python3.10/dist-packages (from anyio<5,>=3.5.0->openai) (1.2.0)\n",
            "Requirement already satisfied: certifi in /usr/local/lib/python3.10/dist-packages (from httpx<1,>=0.23.0->openai) (2024.2.2)\n",
            "Collecting httpcore==1.* (from httpx<1,>=0.23.0->openai)\n",
            "  Downloading httpcore-1.0.5-py3-none-any.whl (77 kB)\n",
            "\u001b[2K     \u001b[90m━━━━━━━━━━━━━━━━━━━━━━━━━━━━━━━━━━━━━━━━\u001b[0m \u001b[32m77.9/77.9 kB\u001b[0m \u001b[31m7.5 MB/s\u001b[0m eta \u001b[36m0:00:00\u001b[0m\n",
            "\u001b[?25hCollecting h11<0.15,>=0.13 (from httpcore==1.*->httpx<1,>=0.23.0->openai)\n",
            "  Downloading h11-0.14.0-py3-none-any.whl (58 kB)\n",
            "\u001b[2K     \u001b[90m━━━━━━━━━━━━━━━━━━━━━━━━━━━━━━━━━━━━━━━━\u001b[0m \u001b[32m58.3/58.3 kB\u001b[0m \u001b[31m5.4 MB/s\u001b[0m eta \u001b[36m0:00:00\u001b[0m\n",
            "\u001b[?25hRequirement already satisfied: annotated-types>=0.4.0 in /usr/local/lib/python3.10/dist-packages (from pydantic<3,>=1.9.0->openai) (0.6.0)\n",
            "Requirement already satisfied: pydantic-core==2.16.3 in /usr/local/lib/python3.10/dist-packages (from pydantic<3,>=1.9.0->openai) (2.16.3)\n",
            "Installing collected packages: h11, httpcore, httpx, openai\n",
            "Successfully installed h11-0.14.0 httpcore-1.0.5 httpx-0.27.0 openai-1.16.2\n"
          ]
        }
      ]
    },
    {
      "cell_type": "code",
      "execution_count": 6,
      "metadata": {
        "id": "ujhRWjwGFhGS"
      },
      "outputs": [],
      "source": [
        "import os\n",
        "from openai import OpenAI"
      ]
    },
    {
      "cell_type": "code",
      "source": [
        "client = OpenAI(api_key='')"
      ],
      "metadata": {
        "id": "Fws8Iq04OUaU"
      },
      "execution_count": 7,
      "outputs": []
    },
    {
      "cell_type": "code",
      "source": [
        "client.models.list()"
      ],
      "metadata": {
        "colab": {
          "base_uri": "https://localhost:8080/"
        },
        "id": "rfTb0YkfOaxi",
        "outputId": "0d3f2011-e821-484f-b0d3-719aa54f1b84"
      },
      "execution_count": 8,
      "outputs": [
        {
          "output_type": "execute_result",
          "data": {
            "text/plain": [
              "SyncPage[Model](data=[Model(id='gpt-3.5-turbo-16k-0613', created=1685474247, object='model', owned_by='openai'), Model(id='whisper-1', created=1677532384, object='model', owned_by='openai-internal'), Model(id='davinci-002', created=1692634301, object='model', owned_by='system'), Model(id='gpt-3.5-turbo', created=1677610602, object='model', owned_by='openai'), Model(id='dall-e-2', created=1698798177, object='model', owned_by='system'), Model(id='tts-1-hd-1106', created=1699053533, object='model', owned_by='system'), Model(id='tts-1-hd', created=1699046015, object='model', owned_by='system'), Model(id='gpt-4-0613', created=1686588896, object='model', owned_by='openai'), Model(id='gpt-4', created=1687882411, object='model', owned_by='openai'), Model(id='text-embedding-3-large', created=1705953180, object='model', owned_by='system'), Model(id='gpt-4-1106-vision-preview', created=1711473033, object='model', owned_by='system'), Model(id='gpt-3.5-turbo-instruct-0914', created=1694122472, object='model', owned_by='system'), Model(id='gpt-4-0125-preview', created=1706037612, object='model', owned_by='system'), Model(id='gpt-3.5-turbo-16k', created=1683758102, object='model', owned_by='openai-internal'), Model(id='gpt-4-turbo-preview', created=1706037777, object='model', owned_by='system'), Model(id='gpt-3.5-turbo-instruct', created=1692901427, object='model', owned_by='system'), Model(id='gpt-3.5-turbo-0301', created=1677649963, object='model', owned_by='openai'), Model(id='gpt-3.5-turbo-0613', created=1686587434, object='model', owned_by='openai'), Model(id='tts-1', created=1681940951, object='model', owned_by='openai-internal'), Model(id='dall-e-3', created=1698785189, object='model', owned_by='system'), Model(id='gpt-3.5-turbo-1106', created=1698959748, object='model', owned_by='system'), Model(id='gpt-4-1106-preview', created=1698957206, object='model', owned_by='system'), Model(id='babbage-002', created=1692634615, object='model', owned_by='system'), Model(id='tts-1-1106', created=1699053241, object='model', owned_by='system'), Model(id='gpt-4-vision-preview', created=1698894917, object='model', owned_by='system'), Model(id='text-embedding-3-small', created=1705948997, object='model', owned_by='system'), Model(id='text-embedding-ada-002', created=1671217299, object='model', owned_by='openai-internal'), Model(id='gpt-3.5-turbo-0125', created=1706048358, object='model', owned_by='system')], object='list')"
            ]
          },
          "metadata": {},
          "execution_count": 8
        }
      ]
    },
    {
      "cell_type": "code",
      "source": [
        "response = client.chat.completions.create(\n",
        "    model='gpt-3.5-turbo-0125',\n",
        "    messages= [\n",
        "        {'role': 'system', 'content': 'Você é um assistente atencioso'},\n",
        "        {'role': 'user', 'content': 'Quão alta é a construção mais alta do mundo?'}\n",
        "    ],\n",
        "    temperature=0.5,\n",
        "    max_tokens=300\n",
        ")"
      ],
      "metadata": {
        "id": "Na72z6MEPFtC"
      },
      "execution_count": 9,
      "outputs": []
    },
    {
      "cell_type": "code",
      "source": [
        "response"
      ],
      "metadata": {
        "colab": {
          "base_uri": "https://localhost:8080/"
        },
        "id": "sA6OOcixTMxy",
        "outputId": "a6ea1921-f5b0-4493-d28c-9c6ac5443bfb"
      },
      "execution_count": 10,
      "outputs": [
        {
          "output_type": "execute_result",
          "data": {
            "text/plain": [
              "ChatCompletion(id='chatcmpl-9B8QkJFzvPjgOFxR5BbUItG1AeiyC', choices=[Choice(finish_reason='stop', index=0, logprobs=None, message=ChatCompletionMessage(content='A construção mais alta do mundo atualmente é o Burj Khalifa, localizado em Dubai, nos Emirados Árabes Unidos, com uma altura de 828 metros. Ele é considerado o edifício mais alto do mundo desde sua conclusão em 2010.', role='assistant', function_call=None, tool_calls=None))], created=1712441042, model='gpt-3.5-turbo-0125', object='chat.completion', system_fingerprint='fp_b28b39ffa8', usage=CompletionUsage(completion_tokens=59, prompt_tokens=31, total_tokens=90))"
            ]
          },
          "metadata": {},
          "execution_count": 10
        }
      ]
    },
    {
      "cell_type": "code",
      "source": [
        "response.choices[0].message.content"
      ],
      "metadata": {
        "colab": {
          "base_uri": "https://localhost:8080/",
          "height": 53
        },
        "id": "Q0AUv95jTNxZ",
        "outputId": "ce8856e5-1d8e-4e89-f989-fc13247b7196"
      },
      "execution_count": 11,
      "outputs": [
        {
          "output_type": "execute_result",
          "data": {
            "text/plain": [
              "'A construção mais alta do mundo atualmente é o Burj Khalifa, localizado em Dubai, nos Emirados Árabes Unidos, com uma altura de 828 metros. Ele é considerado o edifício mais alto do mundo desde sua conclusão em 2010.'"
            ],
            "application/vnd.google.colaboratory.intrinsic+json": {
              "type": "string"
            }
          },
          "metadata": {},
          "execution_count": 11
        }
      ]
    },
    {
      "cell_type": "code",
      "source": [
        "user_input = input('user: ')\n",
        "response2 = client.chat.completions.create(\n",
        "    model='gpt-3.5-turbo-0125',\n",
        "    messages= [\n",
        "        {'role': 'system', 'content': 'Você é um assistente atencioso'},\n",
        "        {'role': 'user', 'content': user_input}\n",
        "    ],\n",
        "    temperature=0.5,\n",
        "    max_tokens=300\n",
        ")"
      ],
      "metadata": {
        "colab": {
          "base_uri": "https://localhost:8080/",
          "height": 365
        },
        "id": "1M2iXBX3UuJ3",
        "outputId": "82af5f4c-836a-4b1c-b816-83c16a7a53a2"
      },
      "execution_count": null,
      "outputs": [
        {
          "output_type": "error",
          "ename": "KeyboardInterrupt",
          "evalue": "Interrupted by user",
          "traceback": [
            "\u001b[0;31m---------------------------------------------------------------------------\u001b[0m",
            "\u001b[0;31mKeyboardInterrupt\u001b[0m                         Traceback (most recent call last)",
            "\u001b[0;32m<ipython-input-15-bdfe3a49f674>\u001b[0m in \u001b[0;36m<cell line: 1>\u001b[0;34m()\u001b[0m\n\u001b[0;32m----> 1\u001b[0;31m \u001b[0muser_input\u001b[0m \u001b[0;34m=\u001b[0m \u001b[0minput\u001b[0m\u001b[0;34m(\u001b[0m\u001b[0;34m'user: '\u001b[0m\u001b[0;34m)\u001b[0m\u001b[0;34m\u001b[0m\u001b[0;34m\u001b[0m\u001b[0m\n\u001b[0m\u001b[1;32m      2\u001b[0m response2 = client.chat.completions.create(\n\u001b[1;32m      3\u001b[0m     \u001b[0mmodel\u001b[0m\u001b[0;34m=\u001b[0m\u001b[0;34m'gpt-3.5-turbo-0125'\u001b[0m\u001b[0;34m,\u001b[0m\u001b[0;34m\u001b[0m\u001b[0;34m\u001b[0m\u001b[0m\n\u001b[1;32m      4\u001b[0m     messages= [\n\u001b[1;32m      5\u001b[0m         \u001b[0;34m{\u001b[0m\u001b[0;34m'role'\u001b[0m\u001b[0;34m:\u001b[0m \u001b[0;34m'system'\u001b[0m\u001b[0;34m,\u001b[0m \u001b[0;34m'content'\u001b[0m\u001b[0;34m:\u001b[0m \u001b[0;34m'Você é um assistente atencioso'\u001b[0m\u001b[0;34m}\u001b[0m\u001b[0;34m,\u001b[0m\u001b[0;34m\u001b[0m\u001b[0;34m\u001b[0m\u001b[0m\n",
            "\u001b[0;32m/usr/local/lib/python3.10/dist-packages/ipykernel/kernelbase.py\u001b[0m in \u001b[0;36mraw_input\u001b[0;34m(self, prompt)\u001b[0m\n\u001b[1;32m    849\u001b[0m                 \u001b[0;34m\"raw_input was called, but this frontend does not support input requests.\"\u001b[0m\u001b[0;34m\u001b[0m\u001b[0;34m\u001b[0m\u001b[0m\n\u001b[1;32m    850\u001b[0m             )\n\u001b[0;32m--> 851\u001b[0;31m         return self._input_request(str(prompt),\n\u001b[0m\u001b[1;32m    852\u001b[0m             \u001b[0mself\u001b[0m\u001b[0;34m.\u001b[0m\u001b[0m_parent_ident\u001b[0m\u001b[0;34m,\u001b[0m\u001b[0;34m\u001b[0m\u001b[0;34m\u001b[0m\u001b[0m\n\u001b[1;32m    853\u001b[0m             \u001b[0mself\u001b[0m\u001b[0;34m.\u001b[0m\u001b[0m_parent_header\u001b[0m\u001b[0;34m,\u001b[0m\u001b[0;34m\u001b[0m\u001b[0;34m\u001b[0m\u001b[0m\n",
            "\u001b[0;32m/usr/local/lib/python3.10/dist-packages/ipykernel/kernelbase.py\u001b[0m in \u001b[0;36m_input_request\u001b[0;34m(self, prompt, ident, parent, password)\u001b[0m\n\u001b[1;32m    893\u001b[0m             \u001b[0;32mexcept\u001b[0m \u001b[0mKeyboardInterrupt\u001b[0m\u001b[0;34m:\u001b[0m\u001b[0;34m\u001b[0m\u001b[0;34m\u001b[0m\u001b[0m\n\u001b[1;32m    894\u001b[0m                 \u001b[0;31m# re-raise KeyboardInterrupt, to truncate traceback\u001b[0m\u001b[0;34m\u001b[0m\u001b[0;34m\u001b[0m\u001b[0m\n\u001b[0;32m--> 895\u001b[0;31m                 \u001b[0;32mraise\u001b[0m \u001b[0mKeyboardInterrupt\u001b[0m\u001b[0;34m(\u001b[0m\u001b[0;34m\"Interrupted by user\"\u001b[0m\u001b[0;34m)\u001b[0m \u001b[0;32mfrom\u001b[0m \u001b[0;32mNone\u001b[0m\u001b[0;34m\u001b[0m\u001b[0;34m\u001b[0m\u001b[0m\n\u001b[0m\u001b[1;32m    896\u001b[0m             \u001b[0;32mexcept\u001b[0m \u001b[0mException\u001b[0m \u001b[0;32mas\u001b[0m \u001b[0me\u001b[0m\u001b[0;34m:\u001b[0m\u001b[0;34m\u001b[0m\u001b[0;34m\u001b[0m\u001b[0m\n\u001b[1;32m    897\u001b[0m                 \u001b[0mself\u001b[0m\u001b[0;34m.\u001b[0m\u001b[0mlog\u001b[0m\u001b[0;34m.\u001b[0m\u001b[0mwarning\u001b[0m\u001b[0;34m(\u001b[0m\u001b[0;34m\"Invalid Message:\"\u001b[0m\u001b[0;34m,\u001b[0m \u001b[0mexc_info\u001b[0m\u001b[0;34m=\u001b[0m\u001b[0;32mTrue\u001b[0m\u001b[0;34m)\u001b[0m\u001b[0;34m\u001b[0m\u001b[0;34m\u001b[0m\u001b[0m\n",
            "\u001b[0;31mKeyboardInterrupt\u001b[0m: Interrupted by user"
          ]
        }
      ]
    },
    {
      "cell_type": "code",
      "source": [
        "response2.choices[0].message.content"
      ],
      "metadata": {
        "colab": {
          "base_uri": "https://localhost:8080/",
          "height": 53
        },
        "id": "203v5dl2U4Pe",
        "outputId": "78003c78-425f-47c2-b7b2-b6ade0ad1097"
      },
      "execution_count": null,
      "outputs": [
        {
          "output_type": "execute_result",
          "data": {
            "text/plain": [
              "'Posso tentar te ajudar com isso! Se você me enviar os metadados das bases de dados que você tem em mente, posso analisar e te dizer qual delas pode ser mais útil para a atividade que você deseja realizar. Além disso, posso sugerir possíveis cálculos ou análises que você poderia fazer com essa base de dados específica. Por favor, envie os metadados das bases que você tem em mente para que eu possa te ajudar da melhor forma possível.'"
            ],
            "application/vnd.google.colaboratory.intrinsic+json": {
              "type": "string"
            }
          },
          "metadata": {},
          "execution_count": 14
        }
      ]
    },
    {
      "cell_type": "code",
      "source": [
        "message_buffer = [{'role': 'system', 'content': 'Você é um assistente atencioso'}]\n",
        "while True:\n",
        "    user_input = input('user: ')\n",
        "    if user_input=='q':\n",
        "      break\n",
        "\n",
        "    message_buffer.append({'role': 'user', 'content': user_input})\n",
        "\n",
        "    response3 = client.chat.completions.create(\n",
        "    model='gpt-3.5-turbo-0125',\n",
        "        messages= message_buffer,\n",
        "        temperature=0.5,\n",
        "        max_tokens=300\n",
        "        )\n",
        "    message_buffer.append({'role':'assistant', 'content':response3.choices[0].message.content})\n",
        "    print(\"Chat:\", response3.choices[0].message.content)"
      ],
      "metadata": {
        "colab": {
          "base_uri": "https://localhost:8080/",
          "height": 365
        },
        "id": "LLt7UrqBVNNm",
        "outputId": "175f26ec-905f-4cd8-bba0-2adf7474afec"
      },
      "execution_count": null,
      "outputs": [
        {
          "output_type": "error",
          "ename": "KeyboardInterrupt",
          "evalue": "Interrupted by user",
          "traceback": [
            "\u001b[0;31m---------------------------------------------------------------------------\u001b[0m",
            "\u001b[0;31mKeyboardInterrupt\u001b[0m                         Traceback (most recent call last)",
            "\u001b[0;32m<ipython-input-18-20b7455a201e>\u001b[0m in \u001b[0;36m<cell line: 2>\u001b[0;34m()\u001b[0m\n\u001b[1;32m      1\u001b[0m \u001b[0mmessage_buffer\u001b[0m \u001b[0;34m=\u001b[0m \u001b[0;34m[\u001b[0m\u001b[0;34m{\u001b[0m\u001b[0;34m'role'\u001b[0m\u001b[0;34m:\u001b[0m \u001b[0;34m'system'\u001b[0m\u001b[0;34m,\u001b[0m \u001b[0;34m'content'\u001b[0m\u001b[0;34m:\u001b[0m \u001b[0;34m'Você é um assistente atencioso'\u001b[0m\u001b[0;34m}\u001b[0m\u001b[0;34m]\u001b[0m\u001b[0;34m\u001b[0m\u001b[0;34m\u001b[0m\u001b[0m\n\u001b[1;32m      2\u001b[0m \u001b[0;32mwhile\u001b[0m \u001b[0;32mTrue\u001b[0m\u001b[0;34m:\u001b[0m\u001b[0;34m\u001b[0m\u001b[0;34m\u001b[0m\u001b[0m\n\u001b[0;32m----> 3\u001b[0;31m     \u001b[0muser_input\u001b[0m \u001b[0;34m=\u001b[0m \u001b[0minput\u001b[0m\u001b[0;34m(\u001b[0m\u001b[0;34m'user: '\u001b[0m\u001b[0;34m)\u001b[0m\u001b[0;34m\u001b[0m\u001b[0;34m\u001b[0m\u001b[0m\n\u001b[0m\u001b[1;32m      4\u001b[0m     \u001b[0;32mif\u001b[0m \u001b[0muser_input\u001b[0m\u001b[0;34m==\u001b[0m\u001b[0;34m'q'\u001b[0m\u001b[0;34m:\u001b[0m\u001b[0;34m\u001b[0m\u001b[0;34m\u001b[0m\u001b[0m\n\u001b[1;32m      5\u001b[0m       \u001b[0;32mbreak\u001b[0m\u001b[0;34m\u001b[0m\u001b[0;34m\u001b[0m\u001b[0m\n",
            "\u001b[0;32m/usr/local/lib/python3.10/dist-packages/ipykernel/kernelbase.py\u001b[0m in \u001b[0;36mraw_input\u001b[0;34m(self, prompt)\u001b[0m\n\u001b[1;32m    849\u001b[0m                 \u001b[0;34m\"raw_input was called, but this frontend does not support input requests.\"\u001b[0m\u001b[0;34m\u001b[0m\u001b[0;34m\u001b[0m\u001b[0m\n\u001b[1;32m    850\u001b[0m             )\n\u001b[0;32m--> 851\u001b[0;31m         return self._input_request(str(prompt),\n\u001b[0m\u001b[1;32m    852\u001b[0m             \u001b[0mself\u001b[0m\u001b[0;34m.\u001b[0m\u001b[0m_parent_ident\u001b[0m\u001b[0;34m,\u001b[0m\u001b[0;34m\u001b[0m\u001b[0;34m\u001b[0m\u001b[0m\n\u001b[1;32m    853\u001b[0m             \u001b[0mself\u001b[0m\u001b[0;34m.\u001b[0m\u001b[0m_parent_header\u001b[0m\u001b[0;34m,\u001b[0m\u001b[0;34m\u001b[0m\u001b[0;34m\u001b[0m\u001b[0m\n",
            "\u001b[0;32m/usr/local/lib/python3.10/dist-packages/ipykernel/kernelbase.py\u001b[0m in \u001b[0;36m_input_request\u001b[0;34m(self, prompt, ident, parent, password)\u001b[0m\n\u001b[1;32m    893\u001b[0m             \u001b[0;32mexcept\u001b[0m \u001b[0mKeyboardInterrupt\u001b[0m\u001b[0;34m:\u001b[0m\u001b[0;34m\u001b[0m\u001b[0;34m\u001b[0m\u001b[0m\n\u001b[1;32m    894\u001b[0m                 \u001b[0;31m# re-raise KeyboardInterrupt, to truncate traceback\u001b[0m\u001b[0;34m\u001b[0m\u001b[0;34m\u001b[0m\u001b[0m\n\u001b[0;32m--> 895\u001b[0;31m                 \u001b[0;32mraise\u001b[0m \u001b[0mKeyboardInterrupt\u001b[0m\u001b[0;34m(\u001b[0m\u001b[0;34m\"Interrupted by user\"\u001b[0m\u001b[0;34m)\u001b[0m \u001b[0;32mfrom\u001b[0m \u001b[0;32mNone\u001b[0m\u001b[0;34m\u001b[0m\u001b[0;34m\u001b[0m\u001b[0m\n\u001b[0m\u001b[1;32m    896\u001b[0m             \u001b[0;32mexcept\u001b[0m \u001b[0mException\u001b[0m \u001b[0;32mas\u001b[0m \u001b[0me\u001b[0m\u001b[0;34m:\u001b[0m\u001b[0;34m\u001b[0m\u001b[0;34m\u001b[0m\u001b[0m\n\u001b[1;32m    897\u001b[0m                 \u001b[0mself\u001b[0m\u001b[0;34m.\u001b[0m\u001b[0mlog\u001b[0m\u001b[0;34m.\u001b[0m\u001b[0mwarning\u001b[0m\u001b[0;34m(\u001b[0m\u001b[0;34m\"Invalid Message:\"\u001b[0m\u001b[0;34m,\u001b[0m \u001b[0mexc_info\u001b[0m\u001b[0;34m=\u001b[0m\u001b[0;32mTrue\u001b[0m\u001b[0;34m)\u001b[0m\u001b[0;34m\u001b[0m\u001b[0;34m\u001b[0m\u001b[0m\n",
            "\u001b[0;31mKeyboardInterrupt\u001b[0m: Interrupted by user"
          ]
        }
      ]
    },
    {
      "cell_type": "code",
      "source": [
        "system_content = '''I want you to act as a support agent. Your name is \"My Super Assistant\". You will provide me with answers from the given info. Your answers shall always be based on the information provided. If the answer is not included, say exactly \"Ooops! I don't know that.\" and stop after that. Refuse to answer any question not about the info. Never break character.'''\n",
        "regras = '''\n",
        "Document content:\n",
        "Question: What is UNDP’s eRecruit system? Answer: UNDP’s eRecruit system is an online system that allows applicants to create a personal profile that can be updated regularly in order to submit applications for more than one advertised UNDP job posting.\n",
        "Question: How do I access UNDP’s eRecruit system? Answer: UNDP’s eRecruit system can be accessed through the following link: https://undpcareers.partneragencies.org/erecruit.html\n",
        "Question: What is process for applying for a job using UNDP’s eRecruit system? Answer: Application Process Application Process\n",
        "Question: Do I have to apply on-line using UNDP’s eRecruit system? Answer: All applications must be submitted online using UNDP’s eRecruit system. Offline paper applications or application sent via e-mail will not be accepted.\n",
        "Question: What browsers are compatible with UNDP’s eRecruit system?Answer: UNDP’s eRecruit system was optimised for Google Chrome, Internet Explorer 6 and above. The usage of Internet Explorer 9 is required in compatibility view mode. We suggest that you use one of these browsers to make sure your application is submitted successfully.\n",
        "Question: I am having problems logging into my profile. The browser is not responding. What should I do? Answer: If you are having problems logging in to your UNDP eRecruit profile in order to apply for a job opening this could stem from a number of reasons, some of which - such as internet connectivity - are outside of UNDP’s control. However, we suggest that you follow these instructions in order to address these types of issues: • Check that you are using the recommended browsers (and versions). • Clear your cache/browser history. You can find information about how to clear your browser history at http://www.refreshyourcache.com/en/home. Please make sure that you are aware of the consequences when clearing the cache in your browser before taking this action.\n",
        "Question: What if I need help using UNDP’s eRecruit system? Answer: For general inquiries or assistance in using UNDP’s eRecruit system, please contact the HelpDesk at https://info.undp.org/sas/erecruit/Assets/HelpDesk.aspx.\n",
        "Question: Why do I need to register? Answer: It is required that all applicants must first register in UNDP’s eRecruit system. After your registration is complete, a personal account is created so that you may complete your personal information and apply to advertised job postings.\n",
        "Question: When registering, what should I use as my username? Answer: It is suggested that you should use a valid e-mail address as your username when registering in the UNDP’s eRecruit system.\n",
        "Question: What password format is accepted? Answer: UNDP encourages the use of strong passwords. Passwords should be a minimum of 8 characters in length and contain a combination of letters and numbers.\n",
        "Question: How can I change my password? Answer: Select the ‘Change Password’ option from the ‘Personal Information’ link after you have logged in to the system. Click on the ‘Forgot User Name or Password?’ link and follow the instructions to retrieve your forgotten password.\n",
        "Question: I have forgotten my password. What should I do? Answer: If you have forgotten your password, click on the link Forgot User ID or Password and complete one of the two options.\n",
        "Question: Will my data be secure? Answer: UNDP’s eRecruit data is stored on a private secure database and UNDP is the owner of the data. The system meets the UNDP's stringent security requirements.\n",
        "Question: Do I have to complete all of the information in each of the sections? Answer: All fields marked with an asterisk (*) are required information and must be completed for each section.\n",
        "Question: Do I need to complete all of the information in one session? Answer: You can save your application at any time during the application process and continue at a later time. When completing a section, we encourage that you use the save button regularly in order to ensure that your information is not lost.\n",
        "Question: How do I select dates using the calendar feature? Answer: Dates can be selected in two ways. You can either A) type the date directly in the field using the dd/mm/yyyy format or B) select the date by clicking on the calendar icon and choose the year month and day.\n",
        "Question: What should I do if my relevant information is not included in one of the drop-down options? Answer: You will be required to choose from the available drop-down options. Please choose the option that is the closest to your personal information, skills and experience.\n",
        "Question: How do I use the Look-up feature? Answer: To use the Look-up feature, click on the magnifying glass icon. After, type in either the full or partial value in the given field and click the button Look Up. Lastly, select the appropriate value from the search result.\n",
        "Question: Is there a spell check feature available? Answer: For various text description fields in each section, a spell click feature is available. To use the spell check feature, click on the dictionary icon to the left of the text field where available.\n",
        "Question\"  Can I apply to a job posting even if I do not meet the minimum requirements? Answer: You will not be able to apply to a job posting if your relevant education, work experience, language skills and possible other qualifications do not meet the minimum requirements specified in the job posting.\n",
        "Question:  Can I review my application before submission? Answer: Once you have clicked on the button submit my application, you will be able to review your full application details before the final submission. If you wish to modify any of the details displayed on the Application Preview page, you may do so by returning to the previous page.\n",
        "Question: How do submit my application? Answer: You will first need to complete all of the required information in the personal profile sections and answer the relevant job-related questions. After, you will be able to submit your application by clicking the button submit my application.\n",
        "Question: The deadline for submitting an application has expired. Can I still apply? Answer: It is essential to submit your application in the eRecruit system before midnight CET time of the job posting’s closing date. Regrettably, we are unable to accept late applications.\n",
        "Question: After I submit my application, will I receive a confirmation? Answer: After you have submitted your application online, you will receive an automated email confirming receipt of your application.\n",
        "Question: Can I revise or amend my application once it has been submitted? Answer: You are able to revise or amend any sections of your personal profile before the job posting’s closing date. Please note that the closing date of all UNDP job postings are effective midnight, CET time.\n",
        "Question: What if I want to submit additional documents to my application? Answer: UNDP does not require that you attach additional documents to your application. However, at any time during the recruitment process, you may be requested by a UNDP Recruitment Specialist to submit additional validating documents to your personal profile in support of your application. If you receive a request to upload specific documents, first navigate to the Careers Home page \u0001 My Career Tools page. Click on Applicant Attachments and add the relevant documents in the attachments section.\n",
        "Question: Can I apply for more than one job posting at the same time? Answer: You may apply to multiple UNDP job postings given that you meet the minimum requirements for each.\n",
        "Question: Is there a fee for submitting my application? Answer: UNDP does not charge any fee at any stage of the recruitment process whether at the application, interview, processing or training stage. UNDP does not require or need to know any information relating to the bank account details of applicants. Any such request should be rejected as these schemes are fraudulent.\n",
        "Question: How can I check on the status of my application? Answer: At all times, you may view the status of the vacancies you have applied. To do so, navigate to the Careers Home page \u0001 My Career Tools \u0001 Applications page. On the My Applications page, you will be able to view the Recruiting Status for each of your applications.\n",
        "'''\n",
        "message_buffer = [{'role': 'system', 'content':system_content }]\n",
        "message_buffer.append({'role': 'user', 'content': regras})\n",
        "while True:\n",
        "    user_input = input('user: ')\n",
        "    if user_input=='q':\n",
        "      break\n",
        "\n",
        "    message_buffer.append({'role': 'user', 'content': user_input})\n",
        "\n",
        "    response4 = client.chat.completions.create(\n",
        "    model='gpt-3.5-turbo-0125',\n",
        "        messages= message_buffer,\n",
        "        temperature=0.0,\n",
        "        max_tokens=200\n",
        "        )\n",
        "    message_buffer.append({'role':'assistant', 'content':response4.choices[0].message.content})\n",
        "    print(\"Chat:\", response4.choices[0].message.content)\n"
      ],
      "metadata": {
        "colab": {
          "base_uri": "https://localhost:8080/"
        },
        "id": "4kTnP4fbYnMo",
        "outputId": "d3a2a119-9da5-4ae7-f27f-96880297f730"
      },
      "execution_count": null,
      "outputs": [
        {
          "name": "stdout",
          "output_type": "stream",
          "text": [
            "user: o que é UNDP?\n",
            "Chat: Ooops! I don't know that.\n",
            "user: what is UNDP?\n",
            "Chat: UNDP stands for United Nations Development Programme.\n",
            "user: q\n"
          ]
        }
      ]
    },
    {
      "cell_type": "code",
      "source": [
        "system_content = '''Você é um assistente, e precisa responder as minhas perguntas baseando-se na informação dada. Se a pergunta não tiver qualquer ligação com a informação dada, responda 'Essa pergunta é irrelevante'. '''\n",
        "regras = '''\n",
        "Cada pós-graduação tem um propósito que se encaixa na personalidade do aluno e nos seus objetivos profissionais. Por isso formulamos um guia absolutamente completo do mestrado.\n",
        "Também conhecido como mestrado acadêmico, é um curso da modalidade stricto sensu. Ou seja, tem uma carga horária bem maior que uma especialização e tem como objetivo formar um profissional como mestre no assunto estudado, inclusive concedendo a ele esse título.\n",
        "Ele é um curso que aprofunda conhecimentos da graduação, tendo como objetivo ampliar e pesquisar sobre determinado assunto acadêmico e estimular a reflexão teórica. Em princípio é indicado para os profissionais que queiram lecionar e crescer no meio acadêmico como pesquisador e professor.\n",
        "No entanto, profissionais que atuam no mercado também podem fazer mestrado. O profissional pode ver no mestrado acadêmico meios de se aprimorar e adquirir competências relevantes para a sua profissão e aperfeiçoamento.\n",
        "Por iniciar oficialmente o aluno na pesquisa, é essencial que o profissional que optar por essa pós-graduação goste de estudar, seja curioso sobre os temas de seu conhecimento e tenha em mente que deve agir como um pesquisador. Isso envolve fazer muita coisa sozinho, inclusive o projeto de mestrado que será submetido à avaliação posteriormente.\n",
        "O aluno também deve ser organizado e estar disposto a estudar diariamente. É possível trabalhar juntamente de cursar o mestrado se a instituição onde o aluno trabalha for flexível em seus horários. É essencial que o aluno frequente as aulas e também; os congressos, palestras, conferências e demais eventos que contemplam a pós-graduação e enriquecem a formação do profissional.\n",
        "Também é necessário que o aluno tenha uma certa fluência em inglês e ainda, conhecimento de uma terceira língua. Esse conhecimento diversificado de idiomas é importante para um mais efetivo aproveitamento dos materiais estudados e também será testado por meio de avaliações.\n",
        "Em média um curso de mestrado dura 2 anos (18 a 24 meses). A carga horária não é muito alta – costuma exigir mais do aluno quanto ao estudo em casa. As aulas não são diárias como na graduação, mas a carga horária por dia de aula pode ser maior que a da graduação.\n",
        "Infelizmente a pesquisa e o desenvolvimento científico tem sofrido ataques e sido colocado em segundo plano. A conciliação entre vida acadêmica e financeira é um tema complicado para os mestrando. Mesmo as bolsas de pesquisa oferecidas não suprem todas as necessidades dos alunos. Além disso, os que recebem bolsa de mestrado não podem trabalhar também, uma saída que complementaria a renda do estudante.\n",
        "Quem opta por não receber a bolsa de pesquisa pode trabalhar paralelamente ao mestrado. No entanto é importante se ater ao fato de que a pós graduação exige muita dedicação e esforço, portanto é necessário haver um equilíbrio do aluno para manter trabalho e mestrado concomitantemente.\n",
        "Cada curso de formação de mestres tem processo e regras diferentes, não possuindo um sistema unificado como são para os cursos de graduação. Normalmente é aconselhado primeiro que o aluno já procure um professor para ser seu orientador. Essa pesquisa pode ser feita usando-se da Plataforma Lattes. Através dela é possível pesquisar mais sobre a carreira do docente e quais são da área desejada para a pesquisa do aluno. É necessária essa conversa com o docente e reuniões para que conversem sobre o projeto de pesquisa e acertem encontros e grupos de estudos.\n",
        "Após isso, o que costuma ocorrer para a seleção é análise do currículo,  prova sobre a área do mestrando, prova de língua estrangeira e por fim, a arguição, que nada mais é que uma entrevista com uma banca de docentes da instituição que irão analisar a pertinência do projeto de pesquisa e aceitá-lo ou não. Caso seja recusado por alguma incoerência ou falta de aprofundamento teórico, por exemplo, o aluno pode refazer seu projeto e submetê-lo para análise posteriormente.\n",
        "O mestrado profissional é diferente do mestrado “tradicional”. Apesar de manter a mesma estrutura de tempo, metodologia de pesquisa e avaliação, o mestrado profissional se difere do tradicional em sua abrangência e aplicação.\n",
        "Sua abordagem vai além do aspecto acadêmico e inclui estudos, técnicas e conceitos que podem ser inseridas no mercado de trabalho. Assim, ao concluir o mestrado acadêmico, o profissional pode tanto se dedicar à docência quanto se capacitar profissionalmente para atuar em empresas públicas ou privadas.\n",
        "A CAPES (Coordenação de Aperfeiçoamento de Pessoal de Nível Superior) emitiu um artigo esclarecedor sobre o mestrado profissional, do qual destacamos o seguintes trecho:\n",
        "“Antes de mais nada, o mestrado profissional (MP) é um título terminal, que se distingue do acadêmico porque este último prepara um pesquisador, que deverá continuar sua carreira com o doutorado, enquanto no MP o que se pretende é imergir um pós-graduando na pesquisa, fazer que ele a conheça bem, mas não necessariamente que ele depois continue a pesquisar. O que importa é que ele (1) conheça por experiência própria o que é pesquisar, (2) saiba onde localizar, no futuro, a pesquisa que interesse a sua profissão, (3) aprenda como incluir a pesquisa existente e a futura no seu trabalho profissional. Nada disso é trivial. O terceiro ponto é, por sinal, razoavelmente difícil. Por isso, o MP não pode ser entendido como um mestrado facilitado.”\n",
        "Para ser válido, o mestrado ead deve ser reconhecido e seguir a legislação do MEC, que inclui: atividade e provas presenciais, qualificação presencial para a defesa de dissertação, apresentação presencial da dissertação, sendo que pelo menos um professor da banca deve ser de fora da instituição.\n",
        "Para poder oferecer um curso de mestrado online, a instituição de ensino deve ser reconhecida pelo MEC. Também deve submeter o programa do curso à autorização da Capes (Coordenação de Aperfeiçoamento de Pessoal de Nível Superior) e comprovar que mantém um grupo de pesquisa na mesma área de conhecimento do curso oferecido.\n",
        "O aluno deve ter um diploma de ensino superior para poder cursar a pós-graduação. Quanto aos documentos exigidos e ao processo seletivo, eles variam de acordo com a instituição, podendo incluir: análise de Currículo Vitae, provas presenciais ou virtuais, entrevista virtual ou presencial.\n",
        "A metodologia dos cursos de mestrado EAD também varia de acordo com a instituição. É interessante perguntar previamente sobre o tipo de atividade e o tempo de dedicação exigidos a fim de organizar melhor seu tempo de estudo.\n",
        "A dissertação de mestrado deverá ser apresentada para concluir a pós-graduação e obter o título de mestre. É uma monografia, normalmente com mais de 30 páginas, em que há um aproveitamento da bibliografia propostas no projeto de pesquisa  e conexões mais originais entre as teorias.\n",
        "Um mestrado não costuma ser barato quando é pago, mas existem alguns órgãos de fomento à pesquisa, do governo e particulares, que podem bancar seu ensino em universidades particulares, ou te conceder bolsa de estudos em universidades públicas – em que o mestrado já não é pago.\n",
        "Entre as opções de instituições que te proporcionam o mestrado gratuito estão a Capes (sigla para Coordenação de Aperfeiçoamento de Pessoal de Nível Superior.) É uma fomentadora governamental da pós graduação gratuita exclusivamente para stricto sensu. Pelo CAPES é possível conseguir bolsas de estudos para desenvolver pesquisas e fazer mestrado e doutorado.\n",
        "Também o Conselho Nacional de Desenvolvimento Científico e Tecnológico (Cnpq) é uma via do governo para o desenvolvimento científico. As bolsas de estudo do CNPq para pós-graduação gratuita tem valores parecidos com os da Capes. Fundação de Amparo à Pesquisa do Estado de São Paulo também tem o propósito de amparo à pesquisa como as demais instituições supracitadas. No entanto, se limita ao estado de São Paulo.\n",
        "A Financiadora de Estudos e Projetos, a FINEP, fomenta o desenvolvimentos tecnológico, científico e empresarial e realiza o financiamento para instituições e para estudantes em diversas modalidades. Neora é uma empresa privada que oferece bolsas de estudos parciais. Não permite a pós-graduação inteiramente grátis mas financia parte dos estudos. Ela estabelece parcerias com faculdades e universidades particulares.\n",
        "Além dessas a grande maioria dos bancos tem programas de financiamento estudantil. Funciona da seguinte forma: eles pagam parte ou toda a pós-graduação do aluno, que ao final devolve o dinheiro com juros quando já estiver exercendo a profissão.\n",
        "Esperamos que esse artigo tenha te sanado suas dúvidas sobre o mestrado!\n",
        "'''\n",
        "message_buffer = [{'role': 'system', 'content':system_content }]\n",
        "message_buffer.append({'role': 'user', 'content': regras})\n",
        "while True:\n",
        "    user_input = input('user: ')\n",
        "    if user_input=='q':\n",
        "      break\n",
        "\n",
        "    message_buffer.append({'role': 'user', 'content': user_input})\n",
        "\n",
        "    response4 = client.chat.completions.create(\n",
        "    model='gpt-3.5-turbo-0125',\n",
        "        messages= message_buffer,\n",
        "        temperature=0.0,\n",
        "        max_tokens=200\n",
        "        )\n",
        "    message_buffer.append({'role':'assistant', 'content':response4.choices[0].message.content})\n",
        "    print(\"Chat:\", response4.choices[0].message.content)\n"
      ],
      "metadata": {
        "id": "ffw5B1NvbHa7",
        "colab": {
          "base_uri": "https://localhost:8080/"
        },
        "outputId": "61a02ff6-a8ad-4156-a2cb-a26d1a7d3c6b"
      },
      "execution_count": 12,
      "outputs": [
        {
          "name": "stdout",
          "output_type": "stream",
          "text": [
            "user: o que é mestrado?\n",
            "Chat: O mestrado é uma pós-graduação stricto sensu que tem como objetivo aprofundar conhecimentos acadêmicos e estimular a reflexão teórica sobre determinado assunto. Geralmente, é indicado para profissionais que desejam lecionar ou atuar como pesquisadores e professores. O curso dura em média 2 anos e exige dedicação, organização e fluência em inglês, além de conhecimento de uma terceira língua. Existem diferentes tipos de mestrado, como o acadêmico e o profissional, cada um com suas particularidades e objetivos.\n",
            "user: O que é preciso para fazer um mestrado?\n",
            "Chat: Para fazer um mestrado, é necessário possuir um diploma de ensino superior. Os documentos exigidos e o processo seletivo variam de acordo com a instituição, podendo incluir análise de Currículo Vitae, provas presenciais ou virtuais, e entrevista virtual ou presencial. Além disso, é importante ter dedicação, organização, fluência em inglês e conhecimento de uma terceira língua, dependendo do curso. É fundamental pesquisar sobre as instituições que oferecem o mestrado desejado e seguir as orientações específicas de cada uma delas.\n",
            "user: Quanto tempo dura um curso de mestrado?\n",
            "Chat: Um curso de mestrado geralmente tem duração média de 2 anos, que corresponde a 18 a 24 meses. Durante esse período, os alunos realizam atividades acadêmicas, pesquisas e elaboram uma dissertação para concluir a pós-graduação e obter o título de mestre. É importante ressaltar que a carga horária não é muito alta em termos de aulas presenciais, mas exige bastante estudo e dedicação fora da sala de aula.\n",
            "user: do que vive um mestrando?\n",
            "Chat: Os mestrandos podem viver de diferentes formas durante o curso de mestrado. Alguns recebem bolsas de pesquisa oferecidas por órgãos de fomento à pesquisa do governo ou particulares, como a CAPES, o CNPq, a FINEP, entre outros. Essas bolsas podem cobrir parte ou totalidade dos custos do curso e fornecer um auxílio financeiro ao estudante. No entanto, nem todos os mestrandos recebem bolsas, e alguns optam por trabalhar paralelamente ao mestrado para complementar a renda. É importante ressaltar que a dedicação e o esforço exigidos pelo mestrado podem tornar desafiadora a conciliação entre vida acadêmica e financeira.\n",
            "user: qual a cor do céu?\n",
            "Chat: Essa pergunta é irrelevante.\n",
            "user: quais os tipos de mestrado?\n",
            "Chat: Existem basicamente dois tipos de mestrado: o acadêmico e o profissional. O mestrado acadêmico, também conhecido como mestrado stricto sensu, tem como objetivo formar profissionais como mestres em determinado assunto, aprofundando conhecimentos acadêmicos e estimulando a reflexão teórica. É indicado para profissionais que desejam lecionar ou crescer no meio acadêmico como pesquisadores e professores. Já o mestrado profissional vai além do aspecto acadêmico e inclui estudos, técnicas e conceitos que podem ser aplicados no mercado de trabalho, capacitando o profissional para atuar em empresas públicas ou privadas. Cada tipo de mestrado possui suas particularidades e objetivos específicos.\n",
            "user: qual mestrado eu devo escolher?\n",
            "Chat: Essa pergunta é irrelevante.\n",
            "user: você disse que existem 2 tipos de mestrado. Qual deles devo escolher?\n",
            "Chat: A escolha entre o mestrado acadêmico e o mestrado profissional depende dos seus objetivos profissionais e pessoais. Se você tem interesse em seguir carreira acadêmica, lecionar e se aprofundar em pesquisas teóricas, o mestrado acadêmico pode ser mais adequado. Por outro lado, se você busca capacitação para atuar no mercado de trabalho, aplicando conhecimentos práticos e técnicos, o mestrado profissional pode ser a melhor opção. É importante considerar seus interesses, habilidades e metas futuras ao decidir qual tipo de mestrado escolher.\n",
            "user: q\n"
          ]
        }
      ]
    },
    {
      "cell_type": "code",
      "source": [
        "res = client.embeddings.create(\n",
        "    model='text-embedding-3-small',\n",
        "    input='O Exterminador do Futuro é um filme sobre como a inteligência artificial destrói a humanidade'\n",
        "    )"
      ],
      "metadata": {
        "id": "VhbJxpfri6nL"
      },
      "execution_count": 15,
      "outputs": []
    },
    {
      "cell_type": "code",
      "source": [
        "len(res.data[0].embedding)"
      ],
      "metadata": {
        "colab": {
          "base_uri": "https://localhost:8080/"
        },
        "id": "icUlYhFSkxYf",
        "outputId": "c919ef89-3292-40ae-feaa-061aa27725e3"
      },
      "execution_count": 18,
      "outputs": [
        {
          "output_type": "execute_result",
          "data": {
            "text/plain": [
              "1536"
            ]
          },
          "metadata": {},
          "execution_count": 18
        }
      ]
    },
    {
      "cell_type": "code",
      "source": [
        "res2 = client.embeddings.create(\n",
        "    model='text-embedding-3-small',\n",
        "    input= ['principe', 'rei', 'rainha', 'cavalo', 'avião']\n",
        "    )"
      ],
      "metadata": {
        "id": "JzK7s86jkyFf"
      },
      "execution_count": 19,
      "outputs": []
    },
    {
      "cell_type": "code",
      "source": [
        "len(res2.data[:])"
      ],
      "metadata": {
        "colab": {
          "base_uri": "https://localhost:8080/"
        },
        "id": "xV43cGi7lvyW",
        "outputId": "80dbf796-2719-4897-a8fc-e5934f4bffb2"
      },
      "execution_count": 29,
      "outputs": [
        {
          "output_type": "execute_result",
          "data": {
            "text/plain": [
              "5"
            ]
          },
          "metadata": {},
          "execution_count": 29
        }
      ]
    },
    {
      "cell_type": "code",
      "source": [
        "lista_embeddings = []\n",
        "for i in res2.data:\n",
        "    lista_embeddings.append(i.embedding)"
      ],
      "metadata": {
        "id": "1dK2br-Ol2el"
      },
      "execution_count": 30,
      "outputs": []
    },
    {
      "cell_type": "code",
      "source": [
        "from scipy.spatial.distance import cosine, cdist\n",
        "import pandas as pd\n",
        "import numpy as np"
      ],
      "metadata": {
        "id": "jARMOvjRmkaU"
      },
      "execution_count": 33,
      "outputs": []
    },
    {
      "cell_type": "code",
      "source": [
        "similaridades = 1 - cdist(np.array(lista_embeddings[0]).reshape(1, -1), np.array(lista_embeddings[1:]), metric='cosine')"
      ],
      "metadata": {
        "id": "PUeC_zKtmmUT"
      },
      "execution_count": 39,
      "outputs": []
    },
    {
      "cell_type": "code",
      "source": [
        "np.argsort(- similaridades)"
      ],
      "metadata": {
        "colab": {
          "base_uri": "https://localhost:8080/"
        },
        "id": "QLQhRn6jnvop",
        "outputId": "6587a22f-fa9d-4cb9-f05f-5e76aa626cdd"
      },
      "execution_count": 41,
      "outputs": [
        {
          "output_type": "execute_result",
          "data": {
            "text/plain": [
              "array([[1, 0, 2, 3]])"
            ]
          },
          "metadata": {},
          "execution_count": 41
        }
      ]
    },
    {
      "cell_type": "code",
      "source": [
        "df_mm = pd.read_csv('https://raw.githubusercontent.com/Menezes-Gus/Datasets/main/movies_metadata.csv', low_memory=False)"
      ],
      "metadata": {
        "id": "wkdjVzL7ope3"
      },
      "execution_count": 43,
      "outputs": []
    },
    {
      "cell_type": "code",
      "source": [
        "df_subset = df_mm[['original_title', 'overview']].iloc[:1000].copy()"
      ],
      "metadata": {
        "id": "IWuC1zWGq0g7"
      },
      "execution_count": 181,
      "outputs": []
    },
    {
      "cell_type": "code",
      "source": [
        "df_subset.dropna(inplace=True)"
      ],
      "metadata": {
        "id": "PGkSvCQuq5sr"
      },
      "execution_count": 182,
      "outputs": []
    },
    {
      "cell_type": "code",
      "source": [
        "df_subset.shape"
      ],
      "metadata": {
        "colab": {
          "base_uri": "https://localhost:8080/"
        },
        "id": "1IJL3gPFrXfx",
        "outputId": "65932709-8609-4cdd-f80a-937452c36c2a"
      },
      "execution_count": 183,
      "outputs": [
        {
          "output_type": "execute_result",
          "data": {
            "text/plain": [
              "(988, 2)"
            ]
          },
          "metadata": {},
          "execution_count": 183
        }
      ]
    },
    {
      "cell_type": "code",
      "source": [
        "res3 = client.embeddings.create(\n",
        "    model='text-embedding-3-small',\n",
        "    input= df_subset['overview'].tolist()\n",
        "    )"
      ],
      "metadata": {
        "id": "IKrCDCbxskIo"
      },
      "execution_count": 202,
      "outputs": []
    },
    {
      "cell_type": "code",
      "source": [
        "embeddings_limpos = []"
      ],
      "metadata": {
        "id": "jfUYtiy1s6VG"
      },
      "execution_count": 203,
      "outputs": []
    },
    {
      "cell_type": "code",
      "source": [
        "type(res3.data)"
      ],
      "metadata": {
        "colab": {
          "base_uri": "https://localhost:8080/"
        },
        "id": "KUQzeg7-tsvU",
        "outputId": "29a8e4ed-f631-4020-e89a-bfaa03369a42"
      },
      "execution_count": 204,
      "outputs": [
        {
          "output_type": "execute_result",
          "data": {
            "text/plain": [
              "list"
            ]
          },
          "metadata": {},
          "execution_count": 204
        }
      ]
    },
    {
      "cell_type": "code",
      "source": [
        "for i in res3.data:\n",
        "    embeddings_limpos.append(i.embedding)"
      ],
      "metadata": {
        "id": "aLedxaHdsJ1p"
      },
      "execution_count": 205,
      "outputs": []
    },
    {
      "cell_type": "code",
      "source": [
        "len(embeddings_limpos)"
      ],
      "metadata": {
        "colab": {
          "base_uri": "https://localhost:8080/"
        },
        "id": "HP7uamn0sXFB",
        "outputId": "ccc07d70-8cc1-4884-bcfa-709b4659622b"
      },
      "execution_count": 206,
      "outputs": [
        {
          "output_type": "execute_result",
          "data": {
            "text/plain": [
              "988"
            ]
          },
          "metadata": {},
          "execution_count": 206
        }
      ]
    },
    {
      "cell_type": "code",
      "source": [
        "embeddings_limpos = np.array(embeddings_limpos, dtype=\"float32\")"
      ],
      "metadata": {
        "id": "gRYs_T_U5npm"
      },
      "execution_count": 207,
      "outputs": []
    },
    {
      "cell_type": "code",
      "source": [
        "from sklearn.metrics.pairwise import cosine_similarity"
      ],
      "metadata": {
        "id": "_eQDyHyut4V9"
      },
      "execution_count": 208,
      "outputs": []
    },
    {
      "cell_type": "code",
      "source": [
        "user_input = input('Busque por um filme: ')\n",
        "\n",
        "res4 = client.embeddings.create(\n",
        "    model='text-embedding-3-small',\n",
        "    input= user_input\n",
        "    )\n",
        "\n",
        "user_vector = np.array(res4.data[0].embedding).reshape(1, -1)"
      ],
      "metadata": {
        "colab": {
          "base_uri": "https://localhost:8080/"
        },
        "id": "DCmudvr_uVyV",
        "outputId": "a03db5cd-54a3-44ff-aeb1-d71a8a784c65"
      },
      "execution_count": 219,
      "outputs": [
        {
          "name": "stdout",
          "output_type": "stream",
          "text": [
            "Busque por um filme: toys, kids, family\n"
          ]
        }
      ]
    },
    {
      "cell_type": "code",
      "source": [
        "similaridade = np.argsort(-cosine_similarity(user_vector, embeddings_limpos)[0])"
      ],
      "metadata": {
        "id": "PJ3n9IFa39_y"
      },
      "execution_count": 227,
      "outputs": []
    },
    {
      "cell_type": "code",
      "source": [
        "similaridade[:10]"
      ],
      "metadata": {
        "colab": {
          "base_uri": "https://localhost:8080/"
        },
        "id": "vkqPiHrU6Dir",
        "outputId": "46f7933c-1628-42e5-ebaf-a6235471143a"
      },
      "execution_count": 228,
      "outputs": [
        {
          "output_type": "execute_result",
          "data": {
            "text/plain": [
              "array([667,   0, 587,  58, 983, 239, 577,   1,  52, 801])"
            ]
          },
          "metadata": {},
          "execution_count": 228
        }
      ]
    },
    {
      "cell_type": "code",
      "source": [
        "df_subset.iloc[similaridade[:10]]"
      ],
      "metadata": {
        "colab": {
          "base_uri": "https://localhost:8080/",
          "height": 363
        },
        "id": "GCABHeXU633C",
        "outputId": "2a73aee9-50f1-4e18-8a14-9f454cb830a0"
      },
      "execution_count": 229,
      "outputs": [
        {
          "output_type": "execute_result",
          "data": {
            "text/plain": [
              "                 original_title  \\\n",
              "673               It's My Party   \n",
              "0                     Toy Story   \n",
              "589                   Pinocchio   \n",
              "59   The Indian in the Cupboard   \n",
              "995        The Three Caballeros   \n",
              "240            Gumby: The Movie   \n",
              "579                  Home Alone   \n",
              "1                       Jumanji   \n",
              "53                The Big Green   \n",
              "810                  Phat Beach   \n",
              "\n",
              "                                              overview  \n",
              "673  A gathering of friends. A gift of love. A cele...  \n",
              "0    Led by Woody, Andy's toys live happily in his ...  \n",
              "589  Lonely toymaker Geppetto has his wishes answer...  \n",
              "59   A nine-year-old boy gets a plastic Indian and ...  \n",
              "995  For Donald's birthday he receives a box with t...  \n",
              "240  The band is back together! Gumby reunites with...  \n",
              "579  Eight-year-old Kevin McCallister makes the mos...  \n",
              "1    When siblings Judy and Peter discover an encha...  \n",
              "53   In a depressed Texas town, British foreign exc...  \n",
              "810  A hefty homeboy borrows his dad's Mercedes and...  "
            ],
            "text/html": [
              "\n",
              "  <div id=\"df-6c528b97-4608-4183-9180-720bf5c53679\" class=\"colab-df-container\">\n",
              "    <div>\n",
              "<style scoped>\n",
              "    .dataframe tbody tr th:only-of-type {\n",
              "        vertical-align: middle;\n",
              "    }\n",
              "\n",
              "    .dataframe tbody tr th {\n",
              "        vertical-align: top;\n",
              "    }\n",
              "\n",
              "    .dataframe thead th {\n",
              "        text-align: right;\n",
              "    }\n",
              "</style>\n",
              "<table border=\"1\" class=\"dataframe\">\n",
              "  <thead>\n",
              "    <tr style=\"text-align: right;\">\n",
              "      <th></th>\n",
              "      <th>original_title</th>\n",
              "      <th>overview</th>\n",
              "    </tr>\n",
              "  </thead>\n",
              "  <tbody>\n",
              "    <tr>\n",
              "      <th>673</th>\n",
              "      <td>It's My Party</td>\n",
              "      <td>A gathering of friends. A gift of love. A cele...</td>\n",
              "    </tr>\n",
              "    <tr>\n",
              "      <th>0</th>\n",
              "      <td>Toy Story</td>\n",
              "      <td>Led by Woody, Andy's toys live happily in his ...</td>\n",
              "    </tr>\n",
              "    <tr>\n",
              "      <th>589</th>\n",
              "      <td>Pinocchio</td>\n",
              "      <td>Lonely toymaker Geppetto has his wishes answer...</td>\n",
              "    </tr>\n",
              "    <tr>\n",
              "      <th>59</th>\n",
              "      <td>The Indian in the Cupboard</td>\n",
              "      <td>A nine-year-old boy gets a plastic Indian and ...</td>\n",
              "    </tr>\n",
              "    <tr>\n",
              "      <th>995</th>\n",
              "      <td>The Three Caballeros</td>\n",
              "      <td>For Donald's birthday he receives a box with t...</td>\n",
              "    </tr>\n",
              "    <tr>\n",
              "      <th>240</th>\n",
              "      <td>Gumby: The Movie</td>\n",
              "      <td>The band is back together! Gumby reunites with...</td>\n",
              "    </tr>\n",
              "    <tr>\n",
              "      <th>579</th>\n",
              "      <td>Home Alone</td>\n",
              "      <td>Eight-year-old Kevin McCallister makes the mos...</td>\n",
              "    </tr>\n",
              "    <tr>\n",
              "      <th>1</th>\n",
              "      <td>Jumanji</td>\n",
              "      <td>When siblings Judy and Peter discover an encha...</td>\n",
              "    </tr>\n",
              "    <tr>\n",
              "      <th>53</th>\n",
              "      <td>The Big Green</td>\n",
              "      <td>In a depressed Texas town, British foreign exc...</td>\n",
              "    </tr>\n",
              "    <tr>\n",
              "      <th>810</th>\n",
              "      <td>Phat Beach</td>\n",
              "      <td>A hefty homeboy borrows his dad's Mercedes and...</td>\n",
              "    </tr>\n",
              "  </tbody>\n",
              "</table>\n",
              "</div>\n",
              "    <div class=\"colab-df-buttons\">\n",
              "\n",
              "  <div class=\"colab-df-container\">\n",
              "    <button class=\"colab-df-convert\" onclick=\"convertToInteractive('df-6c528b97-4608-4183-9180-720bf5c53679')\"\n",
              "            title=\"Convert this dataframe to an interactive table.\"\n",
              "            style=\"display:none;\">\n",
              "\n",
              "  <svg xmlns=\"http://www.w3.org/2000/svg\" height=\"24px\" viewBox=\"0 -960 960 960\">\n",
              "    <path d=\"M120-120v-720h720v720H120Zm60-500h600v-160H180v160Zm220 220h160v-160H400v160Zm0 220h160v-160H400v160ZM180-400h160v-160H180v160Zm440 0h160v-160H620v160ZM180-180h160v-160H180v160Zm440 0h160v-160H620v160Z\"/>\n",
              "  </svg>\n",
              "    </button>\n",
              "\n",
              "  <style>\n",
              "    .colab-df-container {\n",
              "      display:flex;\n",
              "      gap: 12px;\n",
              "    }\n",
              "\n",
              "    .colab-df-convert {\n",
              "      background-color: #E8F0FE;\n",
              "      border: none;\n",
              "      border-radius: 50%;\n",
              "      cursor: pointer;\n",
              "      display: none;\n",
              "      fill: #1967D2;\n",
              "      height: 32px;\n",
              "      padding: 0 0 0 0;\n",
              "      width: 32px;\n",
              "    }\n",
              "\n",
              "    .colab-df-convert:hover {\n",
              "      background-color: #E2EBFA;\n",
              "      box-shadow: 0px 1px 2px rgba(60, 64, 67, 0.3), 0px 1px 3px 1px rgba(60, 64, 67, 0.15);\n",
              "      fill: #174EA6;\n",
              "    }\n",
              "\n",
              "    .colab-df-buttons div {\n",
              "      margin-bottom: 4px;\n",
              "    }\n",
              "\n",
              "    [theme=dark] .colab-df-convert {\n",
              "      background-color: #3B4455;\n",
              "      fill: #D2E3FC;\n",
              "    }\n",
              "\n",
              "    [theme=dark] .colab-df-convert:hover {\n",
              "      background-color: #434B5C;\n",
              "      box-shadow: 0px 1px 3px 1px rgba(0, 0, 0, 0.15);\n",
              "      filter: drop-shadow(0px 1px 2px rgba(0, 0, 0, 0.3));\n",
              "      fill: #FFFFFF;\n",
              "    }\n",
              "  </style>\n",
              "\n",
              "    <script>\n",
              "      const buttonEl =\n",
              "        document.querySelector('#df-6c528b97-4608-4183-9180-720bf5c53679 button.colab-df-convert');\n",
              "      buttonEl.style.display =\n",
              "        google.colab.kernel.accessAllowed ? 'block' : 'none';\n",
              "\n",
              "      async function convertToInteractive(key) {\n",
              "        const element = document.querySelector('#df-6c528b97-4608-4183-9180-720bf5c53679');\n",
              "        const dataTable =\n",
              "          await google.colab.kernel.invokeFunction('convertToInteractive',\n",
              "                                                    [key], {});\n",
              "        if (!dataTable) return;\n",
              "\n",
              "        const docLinkHtml = 'Like what you see? Visit the ' +\n",
              "          '<a target=\"_blank\" href=https://colab.research.google.com/notebooks/data_table.ipynb>data table notebook</a>'\n",
              "          + ' to learn more about interactive tables.';\n",
              "        element.innerHTML = '';\n",
              "        dataTable['output_type'] = 'display_data';\n",
              "        await google.colab.output.renderOutput(dataTable, element);\n",
              "        const docLink = document.createElement('div');\n",
              "        docLink.innerHTML = docLinkHtml;\n",
              "        element.appendChild(docLink);\n",
              "      }\n",
              "    </script>\n",
              "  </div>\n",
              "\n",
              "\n",
              "<div id=\"df-af9c1fc6-2c39-4b63-bd32-849996a6c441\">\n",
              "  <button class=\"colab-df-quickchart\" onclick=\"quickchart('df-af9c1fc6-2c39-4b63-bd32-849996a6c441')\"\n",
              "            title=\"Suggest charts\"\n",
              "            style=\"display:none;\">\n",
              "\n",
              "<svg xmlns=\"http://www.w3.org/2000/svg\" height=\"24px\"viewBox=\"0 0 24 24\"\n",
              "     width=\"24px\">\n",
              "    <g>\n",
              "        <path d=\"M19 3H5c-1.1 0-2 .9-2 2v14c0 1.1.9 2 2 2h14c1.1 0 2-.9 2-2V5c0-1.1-.9-2-2-2zM9 17H7v-7h2v7zm4 0h-2V7h2v10zm4 0h-2v-4h2v4z\"/>\n",
              "    </g>\n",
              "</svg>\n",
              "  </button>\n",
              "\n",
              "<style>\n",
              "  .colab-df-quickchart {\n",
              "      --bg-color: #E8F0FE;\n",
              "      --fill-color: #1967D2;\n",
              "      --hover-bg-color: #E2EBFA;\n",
              "      --hover-fill-color: #174EA6;\n",
              "      --disabled-fill-color: #AAA;\n",
              "      --disabled-bg-color: #DDD;\n",
              "  }\n",
              "\n",
              "  [theme=dark] .colab-df-quickchart {\n",
              "      --bg-color: #3B4455;\n",
              "      --fill-color: #D2E3FC;\n",
              "      --hover-bg-color: #434B5C;\n",
              "      --hover-fill-color: #FFFFFF;\n",
              "      --disabled-bg-color: #3B4455;\n",
              "      --disabled-fill-color: #666;\n",
              "  }\n",
              "\n",
              "  .colab-df-quickchart {\n",
              "    background-color: var(--bg-color);\n",
              "    border: none;\n",
              "    border-radius: 50%;\n",
              "    cursor: pointer;\n",
              "    display: none;\n",
              "    fill: var(--fill-color);\n",
              "    height: 32px;\n",
              "    padding: 0;\n",
              "    width: 32px;\n",
              "  }\n",
              "\n",
              "  .colab-df-quickchart:hover {\n",
              "    background-color: var(--hover-bg-color);\n",
              "    box-shadow: 0 1px 2px rgba(60, 64, 67, 0.3), 0 1px 3px 1px rgba(60, 64, 67, 0.15);\n",
              "    fill: var(--button-hover-fill-color);\n",
              "  }\n",
              "\n",
              "  .colab-df-quickchart-complete:disabled,\n",
              "  .colab-df-quickchart-complete:disabled:hover {\n",
              "    background-color: var(--disabled-bg-color);\n",
              "    fill: var(--disabled-fill-color);\n",
              "    box-shadow: none;\n",
              "  }\n",
              "\n",
              "  .colab-df-spinner {\n",
              "    border: 2px solid var(--fill-color);\n",
              "    border-color: transparent;\n",
              "    border-bottom-color: var(--fill-color);\n",
              "    animation:\n",
              "      spin 1s steps(1) infinite;\n",
              "  }\n",
              "\n",
              "  @keyframes spin {\n",
              "    0% {\n",
              "      border-color: transparent;\n",
              "      border-bottom-color: var(--fill-color);\n",
              "      border-left-color: var(--fill-color);\n",
              "    }\n",
              "    20% {\n",
              "      border-color: transparent;\n",
              "      border-left-color: var(--fill-color);\n",
              "      border-top-color: var(--fill-color);\n",
              "    }\n",
              "    30% {\n",
              "      border-color: transparent;\n",
              "      border-left-color: var(--fill-color);\n",
              "      border-top-color: var(--fill-color);\n",
              "      border-right-color: var(--fill-color);\n",
              "    }\n",
              "    40% {\n",
              "      border-color: transparent;\n",
              "      border-right-color: var(--fill-color);\n",
              "      border-top-color: var(--fill-color);\n",
              "    }\n",
              "    60% {\n",
              "      border-color: transparent;\n",
              "      border-right-color: var(--fill-color);\n",
              "    }\n",
              "    80% {\n",
              "      border-color: transparent;\n",
              "      border-right-color: var(--fill-color);\n",
              "      border-bottom-color: var(--fill-color);\n",
              "    }\n",
              "    90% {\n",
              "      border-color: transparent;\n",
              "      border-bottom-color: var(--fill-color);\n",
              "    }\n",
              "  }\n",
              "</style>\n",
              "\n",
              "  <script>\n",
              "    async function quickchart(key) {\n",
              "      const quickchartButtonEl =\n",
              "        document.querySelector('#' + key + ' button');\n",
              "      quickchartButtonEl.disabled = true;  // To prevent multiple clicks.\n",
              "      quickchartButtonEl.classList.add('colab-df-spinner');\n",
              "      try {\n",
              "        const charts = await google.colab.kernel.invokeFunction(\n",
              "            'suggestCharts', [key], {});\n",
              "      } catch (error) {\n",
              "        console.error('Error during call to suggestCharts:', error);\n",
              "      }\n",
              "      quickchartButtonEl.classList.remove('colab-df-spinner');\n",
              "      quickchartButtonEl.classList.add('colab-df-quickchart-complete');\n",
              "    }\n",
              "    (() => {\n",
              "      let quickchartButtonEl =\n",
              "        document.querySelector('#df-af9c1fc6-2c39-4b63-bd32-849996a6c441 button');\n",
              "      quickchartButtonEl.style.display =\n",
              "        google.colab.kernel.accessAllowed ? 'block' : 'none';\n",
              "    })();\n",
              "  </script>\n",
              "</div>\n",
              "\n",
              "    </div>\n",
              "  </div>\n"
            ],
            "application/vnd.google.colaboratory.intrinsic+json": {
              "type": "dataframe",
              "summary": "{\n  \"name\": \"df_subset\",\n  \"rows\": 10,\n  \"fields\": [\n    {\n      \"column\": \"original_title\",\n      \"properties\": {\n        \"dtype\": \"string\",\n        \"num_unique_values\": 10,\n        \"samples\": [\n          \"The Big Green\",\n          \"Toy Story\",\n          \"Gumby: The Movie\"\n        ],\n        \"semantic_type\": \"\",\n        \"description\": \"\"\n      }\n    },\n    {\n      \"column\": \"overview\",\n      \"properties\": {\n        \"dtype\": \"string\",\n        \"num_unique_values\": 10,\n        \"samples\": [\n          \"In a depressed Texas town, British foreign exchange teacher Anna attempts to inject some life into her hopeless kids by introducing them to soccer. They're terrible at first, but Anna and her football-hero assistant whip them into shape. As they work overtime, the pair help kids build their self-esteem and also get involved in solving family squabbles.\",\n          \"Led by Woody, Andy's toys live happily in his room until Andy's birthday brings Buzz Lightyear onto the scene. Afraid of losing his place in Andy's heart, Woody plots against Buzz. But when circumstances separate Buzz and Woody from their owner, the duo eventually learns to put aside their differences.\",\n          \"The band is back together! Gumby reunites with The Clayboys to perform at a concert benefiting local farmers. But things take an unexpected turn when Gumby s dog, Lowbelly, reacts to the music by crying tears of real pearl! Fortune turns into disaster as Gumby s archenemies, the Blockheads, devise an elaborate scheme to dognap Lowbelly and harvest her pearls for themselves. When the Blockheads initial plan fails, they kidnap The Clayboys as well...and replace them with clones! The battle between Clayboys and clones is filled with trains and planes, knights and fights, thrills and spills. True to classic Gumby adventures, Gumby: The Movie takes viewers in and out of books, to Toyland, Camelot, outer space and beyond!\"\n        ],\n        \"semantic_type\": \"\",\n        \"description\": \"\"\n      }\n    }\n  ]\n}"
            }
          },
          "metadata": {},
          "execution_count": 229
        }
      ]
    },
    {
      "cell_type": "code",
      "source": [
        "score = np.argsort(cdist(user_vector, embeddings_limpos, 'cosine')[0])"
      ],
      "metadata": {
        "id": "ibmrcnigxcRu"
      },
      "execution_count": 225,
      "outputs": []
    },
    {
      "cell_type": "code",
      "source": [
        "df_subset.iloc[score[:10]]"
      ],
      "metadata": {
        "colab": {
          "base_uri": "https://localhost:8080/",
          "height": 363
        },
        "id": "2U2x-DU_xys1",
        "outputId": "b7d115ad-7513-474f-888e-20b93951308d"
      },
      "execution_count": 226,
      "outputs": [
        {
          "output_type": "execute_result",
          "data": {
            "text/plain": [
              "                 original_title  \\\n",
              "673               It's My Party   \n",
              "0                     Toy Story   \n",
              "589                   Pinocchio   \n",
              "59   The Indian in the Cupboard   \n",
              "995        The Three Caballeros   \n",
              "240            Gumby: The Movie   \n",
              "579                  Home Alone   \n",
              "1                       Jumanji   \n",
              "53                The Big Green   \n",
              "810                  Phat Beach   \n",
              "\n",
              "                                              overview  \n",
              "673  A gathering of friends. A gift of love. A cele...  \n",
              "0    Led by Woody, Andy's toys live happily in his ...  \n",
              "589  Lonely toymaker Geppetto has his wishes answer...  \n",
              "59   A nine-year-old boy gets a plastic Indian and ...  \n",
              "995  For Donald's birthday he receives a box with t...  \n",
              "240  The band is back together! Gumby reunites with...  \n",
              "579  Eight-year-old Kevin McCallister makes the mos...  \n",
              "1    When siblings Judy and Peter discover an encha...  \n",
              "53   In a depressed Texas town, British foreign exc...  \n",
              "810  A hefty homeboy borrows his dad's Mercedes and...  "
            ],
            "text/html": [
              "\n",
              "  <div id=\"df-14839cb6-5212-4a2b-be6a-0c7860da9c7a\" class=\"colab-df-container\">\n",
              "    <div>\n",
              "<style scoped>\n",
              "    .dataframe tbody tr th:only-of-type {\n",
              "        vertical-align: middle;\n",
              "    }\n",
              "\n",
              "    .dataframe tbody tr th {\n",
              "        vertical-align: top;\n",
              "    }\n",
              "\n",
              "    .dataframe thead th {\n",
              "        text-align: right;\n",
              "    }\n",
              "</style>\n",
              "<table border=\"1\" class=\"dataframe\">\n",
              "  <thead>\n",
              "    <tr style=\"text-align: right;\">\n",
              "      <th></th>\n",
              "      <th>original_title</th>\n",
              "      <th>overview</th>\n",
              "    </tr>\n",
              "  </thead>\n",
              "  <tbody>\n",
              "    <tr>\n",
              "      <th>673</th>\n",
              "      <td>It's My Party</td>\n",
              "      <td>A gathering of friends. A gift of love. A cele...</td>\n",
              "    </tr>\n",
              "    <tr>\n",
              "      <th>0</th>\n",
              "      <td>Toy Story</td>\n",
              "      <td>Led by Woody, Andy's toys live happily in his ...</td>\n",
              "    </tr>\n",
              "    <tr>\n",
              "      <th>589</th>\n",
              "      <td>Pinocchio</td>\n",
              "      <td>Lonely toymaker Geppetto has his wishes answer...</td>\n",
              "    </tr>\n",
              "    <tr>\n",
              "      <th>59</th>\n",
              "      <td>The Indian in the Cupboard</td>\n",
              "      <td>A nine-year-old boy gets a plastic Indian and ...</td>\n",
              "    </tr>\n",
              "    <tr>\n",
              "      <th>995</th>\n",
              "      <td>The Three Caballeros</td>\n",
              "      <td>For Donald's birthday he receives a box with t...</td>\n",
              "    </tr>\n",
              "    <tr>\n",
              "      <th>240</th>\n",
              "      <td>Gumby: The Movie</td>\n",
              "      <td>The band is back together! Gumby reunites with...</td>\n",
              "    </tr>\n",
              "    <tr>\n",
              "      <th>579</th>\n",
              "      <td>Home Alone</td>\n",
              "      <td>Eight-year-old Kevin McCallister makes the mos...</td>\n",
              "    </tr>\n",
              "    <tr>\n",
              "      <th>1</th>\n",
              "      <td>Jumanji</td>\n",
              "      <td>When siblings Judy and Peter discover an encha...</td>\n",
              "    </tr>\n",
              "    <tr>\n",
              "      <th>53</th>\n",
              "      <td>The Big Green</td>\n",
              "      <td>In a depressed Texas town, British foreign exc...</td>\n",
              "    </tr>\n",
              "    <tr>\n",
              "      <th>810</th>\n",
              "      <td>Phat Beach</td>\n",
              "      <td>A hefty homeboy borrows his dad's Mercedes and...</td>\n",
              "    </tr>\n",
              "  </tbody>\n",
              "</table>\n",
              "</div>\n",
              "    <div class=\"colab-df-buttons\">\n",
              "\n",
              "  <div class=\"colab-df-container\">\n",
              "    <button class=\"colab-df-convert\" onclick=\"convertToInteractive('df-14839cb6-5212-4a2b-be6a-0c7860da9c7a')\"\n",
              "            title=\"Convert this dataframe to an interactive table.\"\n",
              "            style=\"display:none;\">\n",
              "\n",
              "  <svg xmlns=\"http://www.w3.org/2000/svg\" height=\"24px\" viewBox=\"0 -960 960 960\">\n",
              "    <path d=\"M120-120v-720h720v720H120Zm60-500h600v-160H180v160Zm220 220h160v-160H400v160Zm0 220h160v-160H400v160ZM180-400h160v-160H180v160Zm440 0h160v-160H620v160ZM180-180h160v-160H180v160Zm440 0h160v-160H620v160Z\"/>\n",
              "  </svg>\n",
              "    </button>\n",
              "\n",
              "  <style>\n",
              "    .colab-df-container {\n",
              "      display:flex;\n",
              "      gap: 12px;\n",
              "    }\n",
              "\n",
              "    .colab-df-convert {\n",
              "      background-color: #E8F0FE;\n",
              "      border: none;\n",
              "      border-radius: 50%;\n",
              "      cursor: pointer;\n",
              "      display: none;\n",
              "      fill: #1967D2;\n",
              "      height: 32px;\n",
              "      padding: 0 0 0 0;\n",
              "      width: 32px;\n",
              "    }\n",
              "\n",
              "    .colab-df-convert:hover {\n",
              "      background-color: #E2EBFA;\n",
              "      box-shadow: 0px 1px 2px rgba(60, 64, 67, 0.3), 0px 1px 3px 1px rgba(60, 64, 67, 0.15);\n",
              "      fill: #174EA6;\n",
              "    }\n",
              "\n",
              "    .colab-df-buttons div {\n",
              "      margin-bottom: 4px;\n",
              "    }\n",
              "\n",
              "    [theme=dark] .colab-df-convert {\n",
              "      background-color: #3B4455;\n",
              "      fill: #D2E3FC;\n",
              "    }\n",
              "\n",
              "    [theme=dark] .colab-df-convert:hover {\n",
              "      background-color: #434B5C;\n",
              "      box-shadow: 0px 1px 3px 1px rgba(0, 0, 0, 0.15);\n",
              "      filter: drop-shadow(0px 1px 2px rgba(0, 0, 0, 0.3));\n",
              "      fill: #FFFFFF;\n",
              "    }\n",
              "  </style>\n",
              "\n",
              "    <script>\n",
              "      const buttonEl =\n",
              "        document.querySelector('#df-14839cb6-5212-4a2b-be6a-0c7860da9c7a button.colab-df-convert');\n",
              "      buttonEl.style.display =\n",
              "        google.colab.kernel.accessAllowed ? 'block' : 'none';\n",
              "\n",
              "      async function convertToInteractive(key) {\n",
              "        const element = document.querySelector('#df-14839cb6-5212-4a2b-be6a-0c7860da9c7a');\n",
              "        const dataTable =\n",
              "          await google.colab.kernel.invokeFunction('convertToInteractive',\n",
              "                                                    [key], {});\n",
              "        if (!dataTable) return;\n",
              "\n",
              "        const docLinkHtml = 'Like what you see? Visit the ' +\n",
              "          '<a target=\"_blank\" href=https://colab.research.google.com/notebooks/data_table.ipynb>data table notebook</a>'\n",
              "          + ' to learn more about interactive tables.';\n",
              "        element.innerHTML = '';\n",
              "        dataTable['output_type'] = 'display_data';\n",
              "        await google.colab.output.renderOutput(dataTable, element);\n",
              "        const docLink = document.createElement('div');\n",
              "        docLink.innerHTML = docLinkHtml;\n",
              "        element.appendChild(docLink);\n",
              "      }\n",
              "    </script>\n",
              "  </div>\n",
              "\n",
              "\n",
              "<div id=\"df-3c2d3278-20af-490b-8d87-61299869acc1\">\n",
              "  <button class=\"colab-df-quickchart\" onclick=\"quickchart('df-3c2d3278-20af-490b-8d87-61299869acc1')\"\n",
              "            title=\"Suggest charts\"\n",
              "            style=\"display:none;\">\n",
              "\n",
              "<svg xmlns=\"http://www.w3.org/2000/svg\" height=\"24px\"viewBox=\"0 0 24 24\"\n",
              "     width=\"24px\">\n",
              "    <g>\n",
              "        <path d=\"M19 3H5c-1.1 0-2 .9-2 2v14c0 1.1.9 2 2 2h14c1.1 0 2-.9 2-2V5c0-1.1-.9-2-2-2zM9 17H7v-7h2v7zm4 0h-2V7h2v10zm4 0h-2v-4h2v4z\"/>\n",
              "    </g>\n",
              "</svg>\n",
              "  </button>\n",
              "\n",
              "<style>\n",
              "  .colab-df-quickchart {\n",
              "      --bg-color: #E8F0FE;\n",
              "      --fill-color: #1967D2;\n",
              "      --hover-bg-color: #E2EBFA;\n",
              "      --hover-fill-color: #174EA6;\n",
              "      --disabled-fill-color: #AAA;\n",
              "      --disabled-bg-color: #DDD;\n",
              "  }\n",
              "\n",
              "  [theme=dark] .colab-df-quickchart {\n",
              "      --bg-color: #3B4455;\n",
              "      --fill-color: #D2E3FC;\n",
              "      --hover-bg-color: #434B5C;\n",
              "      --hover-fill-color: #FFFFFF;\n",
              "      --disabled-bg-color: #3B4455;\n",
              "      --disabled-fill-color: #666;\n",
              "  }\n",
              "\n",
              "  .colab-df-quickchart {\n",
              "    background-color: var(--bg-color);\n",
              "    border: none;\n",
              "    border-radius: 50%;\n",
              "    cursor: pointer;\n",
              "    display: none;\n",
              "    fill: var(--fill-color);\n",
              "    height: 32px;\n",
              "    padding: 0;\n",
              "    width: 32px;\n",
              "  }\n",
              "\n",
              "  .colab-df-quickchart:hover {\n",
              "    background-color: var(--hover-bg-color);\n",
              "    box-shadow: 0 1px 2px rgba(60, 64, 67, 0.3), 0 1px 3px 1px rgba(60, 64, 67, 0.15);\n",
              "    fill: var(--button-hover-fill-color);\n",
              "  }\n",
              "\n",
              "  .colab-df-quickchart-complete:disabled,\n",
              "  .colab-df-quickchart-complete:disabled:hover {\n",
              "    background-color: var(--disabled-bg-color);\n",
              "    fill: var(--disabled-fill-color);\n",
              "    box-shadow: none;\n",
              "  }\n",
              "\n",
              "  .colab-df-spinner {\n",
              "    border: 2px solid var(--fill-color);\n",
              "    border-color: transparent;\n",
              "    border-bottom-color: var(--fill-color);\n",
              "    animation:\n",
              "      spin 1s steps(1) infinite;\n",
              "  }\n",
              "\n",
              "  @keyframes spin {\n",
              "    0% {\n",
              "      border-color: transparent;\n",
              "      border-bottom-color: var(--fill-color);\n",
              "      border-left-color: var(--fill-color);\n",
              "    }\n",
              "    20% {\n",
              "      border-color: transparent;\n",
              "      border-left-color: var(--fill-color);\n",
              "      border-top-color: var(--fill-color);\n",
              "    }\n",
              "    30% {\n",
              "      border-color: transparent;\n",
              "      border-left-color: var(--fill-color);\n",
              "      border-top-color: var(--fill-color);\n",
              "      border-right-color: var(--fill-color);\n",
              "    }\n",
              "    40% {\n",
              "      border-color: transparent;\n",
              "      border-right-color: var(--fill-color);\n",
              "      border-top-color: var(--fill-color);\n",
              "    }\n",
              "    60% {\n",
              "      border-color: transparent;\n",
              "      border-right-color: var(--fill-color);\n",
              "    }\n",
              "    80% {\n",
              "      border-color: transparent;\n",
              "      border-right-color: var(--fill-color);\n",
              "      border-bottom-color: var(--fill-color);\n",
              "    }\n",
              "    90% {\n",
              "      border-color: transparent;\n",
              "      border-bottom-color: var(--fill-color);\n",
              "    }\n",
              "  }\n",
              "</style>\n",
              "\n",
              "  <script>\n",
              "    async function quickchart(key) {\n",
              "      const quickchartButtonEl =\n",
              "        document.querySelector('#' + key + ' button');\n",
              "      quickchartButtonEl.disabled = true;  // To prevent multiple clicks.\n",
              "      quickchartButtonEl.classList.add('colab-df-spinner');\n",
              "      try {\n",
              "        const charts = await google.colab.kernel.invokeFunction(\n",
              "            'suggestCharts', [key], {});\n",
              "      } catch (error) {\n",
              "        console.error('Error during call to suggestCharts:', error);\n",
              "      }\n",
              "      quickchartButtonEl.classList.remove('colab-df-spinner');\n",
              "      quickchartButtonEl.classList.add('colab-df-quickchart-complete');\n",
              "    }\n",
              "    (() => {\n",
              "      let quickchartButtonEl =\n",
              "        document.querySelector('#df-3c2d3278-20af-490b-8d87-61299869acc1 button');\n",
              "      quickchartButtonEl.style.display =\n",
              "        google.colab.kernel.accessAllowed ? 'block' : 'none';\n",
              "    })();\n",
              "  </script>\n",
              "</div>\n",
              "\n",
              "    </div>\n",
              "  </div>\n"
            ],
            "application/vnd.google.colaboratory.intrinsic+json": {
              "type": "dataframe",
              "summary": "{\n  \"name\": \"df_subset\",\n  \"rows\": 10,\n  \"fields\": [\n    {\n      \"column\": \"original_title\",\n      \"properties\": {\n        \"dtype\": \"string\",\n        \"num_unique_values\": 10,\n        \"samples\": [\n          \"The Big Green\",\n          \"Toy Story\",\n          \"Gumby: The Movie\"\n        ],\n        \"semantic_type\": \"\",\n        \"description\": \"\"\n      }\n    },\n    {\n      \"column\": \"overview\",\n      \"properties\": {\n        \"dtype\": \"string\",\n        \"num_unique_values\": 10,\n        \"samples\": [\n          \"In a depressed Texas town, British foreign exchange teacher Anna attempts to inject some life into her hopeless kids by introducing them to soccer. They're terrible at first, but Anna and her football-hero assistant whip them into shape. As they work overtime, the pair help kids build their self-esteem and also get involved in solving family squabbles.\",\n          \"Led by Woody, Andy's toys live happily in his room until Andy's birthday brings Buzz Lightyear onto the scene. Afraid of losing his place in Andy's heart, Woody plots against Buzz. But when circumstances separate Buzz and Woody from their owner, the duo eventually learns to put aside their differences.\",\n          \"The band is back together! Gumby reunites with The Clayboys to perform at a concert benefiting local farmers. But things take an unexpected turn when Gumby s dog, Lowbelly, reacts to the music by crying tears of real pearl! Fortune turns into disaster as Gumby s archenemies, the Blockheads, devise an elaborate scheme to dognap Lowbelly and harvest her pearls for themselves. When the Blockheads initial plan fails, they kidnap The Clayboys as well...and replace them with clones! The battle between Clayboys and clones is filled with trains and planes, knights and fights, thrills and spills. True to classic Gumby adventures, Gumby: The Movie takes viewers in and out of books, to Toyland, Camelot, outer space and beyond!\"\n        ],\n        \"semantic_type\": \"\",\n        \"description\": \"\"\n      }\n    }\n  ]\n}"
            }
          },
          "metadata": {},
          "execution_count": 226
        }
      ]
    },
    {
      "cell_type": "code",
      "source": [],
      "metadata": {
        "id": "Q-zQKBTd25nO"
      },
      "execution_count": null,
      "outputs": []
    }
  ]
}